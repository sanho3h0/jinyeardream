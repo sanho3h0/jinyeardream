{
 "cells": [
  {
   "cell_type": "code",
   "execution_count": 4,
   "metadata": {},
   "outputs": [
    {
     "name": "stdout",
     "output_type": "stream",
     "text": [
      "80\n"
     ]
    }
   ],
   "source": [
    "'''\n",
    "아스키코드\n",
    "ord()함수 사용하기 - 입력받은 문자열을 십진수 아스키 코드로 변환할 수 있다.\n",
    "\n",
    "'''\n",
    "\n",
    "character = 'P'\n",
    "ascii_P = ord(character)\n",
    "print(ascii_P)"
   ]
  },
  {
   "cell_type": "code",
   "execution_count": 6,
   "metadata": {},
   "outputs": [
    {
     "data": {
      "text/plain": [
       "'\\n문자와 숫자를 섞어서 치더라도 숫자만 나오게 하는 프로그램을 짜보자\\n1.문자열을 입력받으세요.\\n2. 입력 받은 문자열에서 문자 또는 기호를 제외한 숫자만 추출해서 문자열 형태로 출력하는 코드를 작성하세요.\\nTip. 아스키(ASCII) 코드를 이용\\n1) ord()함수를 사용해보기\\n2) isdigit() 함수 사용\\n3) 리스트 컴프리핸션과 join 사용\\n'"
      ]
     },
     "execution_count": 6,
     "metadata": {},
     "output_type": "execute_result"
    }
   ],
   "source": [
    "'''\n",
    "문자와 숫자를 섞어서 치더라도 숫자만 나오게 하는 프로그램을 짜보자\n",
    "1.문자열을 입력받으세요.\n",
    "2. 입력 받은 문자열에서 문자 또는 기호를 제외한 숫자만 추출해서 문자열 형태로 출력하는 코드를 작성하세요.\n",
    "Tip. 아스키(ASCII) 코드를 이용\n",
    "1) ord()함수를 사용해보기\n",
    "2) isdigit() 함수 사용\n",
    "3) 리스트 컴프리핸션과 join 사용\n",
    "'''"
   ]
  },
  {
   "cell_type": "code",
   "execution_count": 20,
   "metadata": {},
   "outputs": [
    {
     "name": "stdout",
     "output_type": "stream",
     "text": [
      "897897\n"
     ]
    }
   ],
   "source": [
    "'''\n",
    "1. isdigit()함수 사용\n",
    "'''\n",
    "input_str = input()\n",
    "result = ''\n",
    "\n",
    "for ch in input_str: #문자열 안에서 ch 검사\n",
    "    if ch.isdigit():\n",
    "    # ch.isdigit()은 문자 ch가 숫자인지(True/False) 판별해 주는 문자열 메서드\n",
    "        result +=ch\n",
    "        # result = result + ch\n",
    "\n",
    "print (result)"
   ]
  },
  {
   "cell_type": "code",
   "execution_count": 23,
   "metadata": {},
   "outputs": [
    {
     "name": "stdout",
     "output_type": "stream",
     "text": [
      "98\n"
     ]
    }
   ],
   "source": [
    "input_str= input()\n",
    "result = ''.join([ch for ch in input_str if ch.isdigit()])\n",
    "print(result)"
   ]
  },
  {
   "cell_type": "code",
   "execution_count": 16,
   "metadata": {},
   "outputs": [
    {
     "name": "stdout",
     "output_type": "stream",
     "text": [
      "False\n"
     ]
    }
   ],
   "source": [
    "foods = input().split()\n",
    "synergy = [('치즈', '달걀'), ('고구마', '김치'), ('감자', '토마토')]\n",
    "\n",
    "found = False\n",
    "for a, b in synergy:\n",
    "    if a in foods and b in foods:\n",
    "        found = True\n",
    "        break\n",
    "        \n",
    "print(found)"
   ]
  },
  {
   "cell_type": "code",
   "execution_count": 1,
   "metadata": {},
   "outputs": [
    {
     "name": "stdout",
     "output_type": "stream",
     "text": [
      "1\n",
      "2\n",
      "짝 !\n",
      "4\n",
      "5\n",
      "짝 !\n",
      "7\n",
      "8\n",
      "짝 !\n",
      "10\n",
      "11\n",
      "12\n",
      "짝 !\n",
      "14\n",
      "15\n",
      "짝 !\n",
      "17\n",
      "18\n",
      "짝 !\n",
      "20\n",
      "21\n",
      "22\n",
      "짝 !\n",
      "24\n",
      "25\n",
      "짝 !\n",
      "27\n",
      "28\n",
      "짝 !\n",
      "짝 !\n",
      "짝 !\n",
      "짝 !\n",
      "짝짝 !\n",
      "짝 !\n",
      "짝 !\n",
      "짝짝 !\n",
      "짝 !\n",
      "짝 !\n",
      "짝짝 !\n",
      "40\n",
      "41\n",
      "42\n",
      "짝 !\n"
     ]
    }
   ],
   "source": [
    "for num in range(1,44):\n",
    "    count_num = str(num).count('3') + str(num).count('6') + str(num).count('9')\n",
    "    # 3,6,9 개수 세기 -> 박수 여러번치기위해\n",
    "\n",
    "    if count_num > 0:\n",
    "        print(\"짝\"*count_num, \"!\", end=\"\\n\")\n",
    "    else:\n",
    "        print(num, end=\"\\n\")"
   ]
  }
 ],
 "metadata": {
  "kernelspec": {
   "display_name": "Python 3",
   "language": "python",
   "name": "python3"
  },
  "language_info": {
   "codemirror_mode": {
    "name": "ipython",
    "version": 3
   },
   "file_extension": ".py",
   "mimetype": "text/x-python",
   "name": "python",
   "nbconvert_exporter": "python",
   "pygments_lexer": "ipython3",
   "version": "3.12.3"
  }
 },
 "nbformat": 4,
 "nbformat_minor": 2
}
